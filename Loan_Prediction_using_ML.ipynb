{
  "nbformat": 4,
  "nbformat_minor": 0,
  "metadata": {
    "colab": {
      "name": "Loan Prediction using ML.ipynb",
      "provenance": [],
      "collapsed_sections": [
        "fhwvkyqpjyAE"
      ]
    },
    "kernelspec": {
      "name": "python3",
      "display_name": "Python 3"
    },
    "language_info": {
      "name": "python"
    }
  },
  "cells": [
    {
      "cell_type": "markdown",
      "metadata": {
        "id": "dal2Iz3h7Ut1"
      },
      "source": [
        "# Importing the Libraries"
      ]
    },
    {
      "cell_type": "code",
      "metadata": {
        "id": "219wDWTM6p7_"
      },
      "source": [
        "# Data Manipulation Tool \n",
        "import numpy as np \n",
        "import pandas as pd\n",
        "\n",
        "# Data Visualization Tool\n",
        "import matplotlib.pyplot as plt\n",
        "import seaborn as sns\n",
        "\n",
        "# Interactive Functions\n",
        "from ipywidgets import interact\n",
        "\n",
        "# Data Encoding\n",
        "from sklearn.preprocessing import LabelEncoder\n",
        "\n",
        "# Splitting Data into Train and Test\n",
        "from sklearn.model_selection import train_test_split\n",
        "\n",
        "# Data Preprocessing\n",
        "from sklearn import preprocessing\n",
        "from sklearn.preprocessing import StandardScaler\n",
        "\n",
        "# Model\n",
        "from sklearn.linear_model import LogisticRegression\n",
        "\n",
        "# from sklearn import metrics\n",
        "from sklearn.metrics import accuracy_score\n",
        "\n",
        "# Pickling model\n",
        "import pickle as pkl"
      ],
      "execution_count": null,
      "outputs": []
    },
    {
      "cell_type": "markdown",
      "metadata": {
        "id": "k6cJidaE8_30"
      },
      "source": [
        "# Importing the Datasets"
      ]
    },
    {
      "cell_type": "code",
      "metadata": {
        "colab": {
          "base_uri": "https://localhost:8080/"
        },
        "id": "GlBm4C1ymRq6",
        "outputId": "003186dd-a486-4a71-eb81-9aa2866ab140"
      },
      "source": [
        "from google.colab import drive\n",
        "drive.mount('/content/drive')"
      ],
      "execution_count": null,
      "outputs": [
        {
          "output_type": "stream",
          "name": "stdout",
          "text": [
            "Drive already mounted at /content/drive; to attempt to forcibly remount, call drive.mount(\"/content/drive\", force_remount=True).\n"
          ]
        }
      ]
    },
    {
      "cell_type": "code",
      "metadata": {
        "id": "cdDe42hZ7v5i"
      },
      "source": [
        "train = pd.read_csv('/content/drive/MyDrive/ShapeAI_Projects/Training Data.csv')\n",
        "test = pd.read_csv('/content/drive/MyDrive/ShapeAI_Projects/Testing Data.csv')"
      ],
      "execution_count": null,
      "outputs": []
    },
    {
      "cell_type": "markdown",
      "metadata": {
        "id": "8-SFZSdZ-g-h"
      },
      "source": [
        "# Data Analysis\n"
      ]
    },
    {
      "cell_type": "markdown",
      "metadata": {
        "id": "VkmKAqsnk6c-"
      },
      "source": [
        "## Data Exploration"
      ]
    },
    {
      "cell_type": "markdown",
      "metadata": {
        "id": "Pb5yZsrTnwdU"
      },
      "source": [
        "### Training Data"
      ]
    },
    {
      "cell_type": "code",
      "metadata": {
        "colab": {
          "base_uri": "https://localhost:8080/",
          "height": 238
        },
        "id": "munOVJ9S9oI4",
        "outputId": "35236d68-6b92-478c-8878-746a8ccd09c0"
      },
      "source": [
        "train.head()"
      ],
      "execution_count": null,
      "outputs": [
        {
          "output_type": "execute_result",
          "data": {
            "text/html": [
              "<div>\n",
              "<style scoped>\n",
              "    .dataframe tbody tr th:only-of-type {\n",
              "        vertical-align: middle;\n",
              "    }\n",
              "\n",
              "    .dataframe tbody tr th {\n",
              "        vertical-align: top;\n",
              "    }\n",
              "\n",
              "    .dataframe thead th {\n",
              "        text-align: right;\n",
              "    }\n",
              "</style>\n",
              "<table border=\"1\" class=\"dataframe\">\n",
              "  <thead>\n",
              "    <tr style=\"text-align: right;\">\n",
              "      <th></th>\n",
              "      <th>Loan_ID</th>\n",
              "      <th>Gender</th>\n",
              "      <th>Married</th>\n",
              "      <th>Dependents</th>\n",
              "      <th>Education</th>\n",
              "      <th>Self_Employed</th>\n",
              "      <th>ApplicantIncome</th>\n",
              "      <th>CoapplicantIncome</th>\n",
              "      <th>LoanAmount</th>\n",
              "      <th>Loan_Amount_Term</th>\n",
              "      <th>Credit_History</th>\n",
              "      <th>Property_Area</th>\n",
              "      <th>Loan_Status</th>\n",
              "    </tr>\n",
              "  </thead>\n",
              "  <tbody>\n",
              "    <tr>\n",
              "      <th>0</th>\n",
              "      <td>LP001002</td>\n",
              "      <td>Male</td>\n",
              "      <td>No</td>\n",
              "      <td>0</td>\n",
              "      <td>Graduate</td>\n",
              "      <td>No</td>\n",
              "      <td>5849</td>\n",
              "      <td>0.0</td>\n",
              "      <td>NaN</td>\n",
              "      <td>360.0</td>\n",
              "      <td>1.0</td>\n",
              "      <td>Urban</td>\n",
              "      <td>Y</td>\n",
              "    </tr>\n",
              "    <tr>\n",
              "      <th>1</th>\n",
              "      <td>LP001003</td>\n",
              "      <td>Male</td>\n",
              "      <td>Yes</td>\n",
              "      <td>1</td>\n",
              "      <td>Graduate</td>\n",
              "      <td>No</td>\n",
              "      <td>4583</td>\n",
              "      <td>1508.0</td>\n",
              "      <td>128.0</td>\n",
              "      <td>360.0</td>\n",
              "      <td>1.0</td>\n",
              "      <td>Rural</td>\n",
              "      <td>N</td>\n",
              "    </tr>\n",
              "    <tr>\n",
              "      <th>2</th>\n",
              "      <td>LP001005</td>\n",
              "      <td>Male</td>\n",
              "      <td>Yes</td>\n",
              "      <td>0</td>\n",
              "      <td>Graduate</td>\n",
              "      <td>Yes</td>\n",
              "      <td>3000</td>\n",
              "      <td>0.0</td>\n",
              "      <td>66.0</td>\n",
              "      <td>360.0</td>\n",
              "      <td>1.0</td>\n",
              "      <td>Urban</td>\n",
              "      <td>Y</td>\n",
              "    </tr>\n",
              "    <tr>\n",
              "      <th>3</th>\n",
              "      <td>LP001006</td>\n",
              "      <td>Male</td>\n",
              "      <td>Yes</td>\n",
              "      <td>0</td>\n",
              "      <td>Not Graduate</td>\n",
              "      <td>No</td>\n",
              "      <td>2583</td>\n",
              "      <td>2358.0</td>\n",
              "      <td>120.0</td>\n",
              "      <td>360.0</td>\n",
              "      <td>1.0</td>\n",
              "      <td>Urban</td>\n",
              "      <td>Y</td>\n",
              "    </tr>\n",
              "    <tr>\n",
              "      <th>4</th>\n",
              "      <td>LP001008</td>\n",
              "      <td>Male</td>\n",
              "      <td>No</td>\n",
              "      <td>0</td>\n",
              "      <td>Graduate</td>\n",
              "      <td>No</td>\n",
              "      <td>6000</td>\n",
              "      <td>0.0</td>\n",
              "      <td>141.0</td>\n",
              "      <td>360.0</td>\n",
              "      <td>1.0</td>\n",
              "      <td>Urban</td>\n",
              "      <td>Y</td>\n",
              "    </tr>\n",
              "  </tbody>\n",
              "</table>\n",
              "</div>"
            ],
            "text/plain": [
              "    Loan_ID Gender Married  ... Credit_History Property_Area Loan_Status\n",
              "0  LP001002   Male      No  ...            1.0         Urban           Y\n",
              "1  LP001003   Male     Yes  ...            1.0         Rural           N\n",
              "2  LP001005   Male     Yes  ...            1.0         Urban           Y\n",
              "3  LP001006   Male     Yes  ...            1.0         Urban           Y\n",
              "4  LP001008   Male      No  ...            1.0         Urban           Y\n",
              "\n",
              "[5 rows x 13 columns]"
            ]
          },
          "metadata": {},
          "execution_count": 4
        }
      ]
    },
    {
      "cell_type": "code",
      "metadata": {
        "colab": {
          "base_uri": "https://localhost:8080/",
          "height": 222
        },
        "id": "p-TRbfUC9qsX",
        "outputId": "45d43bf9-748f-4e5e-fe8e-2ee483fe108f"
      },
      "source": [
        "train.tail()"
      ],
      "execution_count": null,
      "outputs": [
        {
          "output_type": "execute_result",
          "data": {
            "text/html": [
              "<div>\n",
              "<style scoped>\n",
              "    .dataframe tbody tr th:only-of-type {\n",
              "        vertical-align: middle;\n",
              "    }\n",
              "\n",
              "    .dataframe tbody tr th {\n",
              "        vertical-align: top;\n",
              "    }\n",
              "\n",
              "    .dataframe thead th {\n",
              "        text-align: right;\n",
              "    }\n",
              "</style>\n",
              "<table border=\"1\" class=\"dataframe\">\n",
              "  <thead>\n",
              "    <tr style=\"text-align: right;\">\n",
              "      <th></th>\n",
              "      <th>Loan_ID</th>\n",
              "      <th>Gender</th>\n",
              "      <th>Married</th>\n",
              "      <th>Dependents</th>\n",
              "      <th>Education</th>\n",
              "      <th>Self_Employed</th>\n",
              "      <th>ApplicantIncome</th>\n",
              "      <th>CoapplicantIncome</th>\n",
              "      <th>LoanAmount</th>\n",
              "      <th>Loan_Amount_Term</th>\n",
              "      <th>Credit_History</th>\n",
              "      <th>Property_Area</th>\n",
              "      <th>Loan_Status</th>\n",
              "    </tr>\n",
              "  </thead>\n",
              "  <tbody>\n",
              "    <tr>\n",
              "      <th>609</th>\n",
              "      <td>LP002978</td>\n",
              "      <td>Female</td>\n",
              "      <td>No</td>\n",
              "      <td>0</td>\n",
              "      <td>Graduate</td>\n",
              "      <td>No</td>\n",
              "      <td>2900</td>\n",
              "      <td>0.0</td>\n",
              "      <td>71.0</td>\n",
              "      <td>360.0</td>\n",
              "      <td>1.0</td>\n",
              "      <td>Rural</td>\n",
              "      <td>Y</td>\n",
              "    </tr>\n",
              "    <tr>\n",
              "      <th>610</th>\n",
              "      <td>LP002979</td>\n",
              "      <td>Male</td>\n",
              "      <td>Yes</td>\n",
              "      <td>3+</td>\n",
              "      <td>Graduate</td>\n",
              "      <td>No</td>\n",
              "      <td>4106</td>\n",
              "      <td>0.0</td>\n",
              "      <td>40.0</td>\n",
              "      <td>180.0</td>\n",
              "      <td>1.0</td>\n",
              "      <td>Rural</td>\n",
              "      <td>Y</td>\n",
              "    </tr>\n",
              "    <tr>\n",
              "      <th>611</th>\n",
              "      <td>LP002983</td>\n",
              "      <td>Male</td>\n",
              "      <td>Yes</td>\n",
              "      <td>1</td>\n",
              "      <td>Graduate</td>\n",
              "      <td>No</td>\n",
              "      <td>8072</td>\n",
              "      <td>240.0</td>\n",
              "      <td>253.0</td>\n",
              "      <td>360.0</td>\n",
              "      <td>1.0</td>\n",
              "      <td>Urban</td>\n",
              "      <td>Y</td>\n",
              "    </tr>\n",
              "    <tr>\n",
              "      <th>612</th>\n",
              "      <td>LP002984</td>\n",
              "      <td>Male</td>\n",
              "      <td>Yes</td>\n",
              "      <td>2</td>\n",
              "      <td>Graduate</td>\n",
              "      <td>No</td>\n",
              "      <td>7583</td>\n",
              "      <td>0.0</td>\n",
              "      <td>187.0</td>\n",
              "      <td>360.0</td>\n",
              "      <td>1.0</td>\n",
              "      <td>Urban</td>\n",
              "      <td>Y</td>\n",
              "    </tr>\n",
              "    <tr>\n",
              "      <th>613</th>\n",
              "      <td>LP002990</td>\n",
              "      <td>Female</td>\n",
              "      <td>No</td>\n",
              "      <td>0</td>\n",
              "      <td>Graduate</td>\n",
              "      <td>Yes</td>\n",
              "      <td>4583</td>\n",
              "      <td>0.0</td>\n",
              "      <td>133.0</td>\n",
              "      <td>360.0</td>\n",
              "      <td>0.0</td>\n",
              "      <td>Semiurban</td>\n",
              "      <td>N</td>\n",
              "    </tr>\n",
              "  </tbody>\n",
              "</table>\n",
              "</div>"
            ],
            "text/plain": [
              "      Loan_ID  Gender Married  ... Credit_History Property_Area Loan_Status\n",
              "609  LP002978  Female      No  ...            1.0         Rural           Y\n",
              "610  LP002979    Male     Yes  ...            1.0         Rural           Y\n",
              "611  LP002983    Male     Yes  ...            1.0         Urban           Y\n",
              "612  LP002984    Male     Yes  ...            1.0         Urban           Y\n",
              "613  LP002990  Female      No  ...            0.0     Semiurban           N\n",
              "\n",
              "[5 rows x 13 columns]"
            ]
          },
          "metadata": {},
          "execution_count": 5
        }
      ]
    },
    {
      "cell_type": "code",
      "metadata": {
        "colab": {
          "base_uri": "https://localhost:8080/"
        },
        "id": "BRcY4_Si9tj0",
        "outputId": "02e0dae6-9a96-4274-f336-66bf8532b8d7"
      },
      "source": [
        "train.shape"
      ],
      "execution_count": null,
      "outputs": [
        {
          "output_type": "execute_result",
          "data": {
            "text/plain": [
              "(614, 13)"
            ]
          },
          "metadata": {},
          "execution_count": 6
        }
      ]
    },
    {
      "cell_type": "code",
      "metadata": {
        "colab": {
          "base_uri": "https://localhost:8080/"
        },
        "id": "YM_8gx8l-qmO",
        "outputId": "ecdd5671-9991-4015-bddd-7dbcc8d4ee14"
      },
      "source": [
        "train.info()"
      ],
      "execution_count": null,
      "outputs": [
        {
          "output_type": "stream",
          "name": "stdout",
          "text": [
            "<class 'pandas.core.frame.DataFrame'>\n",
            "RangeIndex: 614 entries, 0 to 613\n",
            "Data columns (total 13 columns):\n",
            " #   Column             Non-Null Count  Dtype  \n",
            "---  ------             --------------  -----  \n",
            " 0   Loan_ID            614 non-null    object \n",
            " 1   Gender             601 non-null    object \n",
            " 2   Married            611 non-null    object \n",
            " 3   Dependents         599 non-null    object \n",
            " 4   Education          614 non-null    object \n",
            " 5   Self_Employed      582 non-null    object \n",
            " 6   ApplicantIncome    614 non-null    int64  \n",
            " 7   CoapplicantIncome  614 non-null    float64\n",
            " 8   LoanAmount         592 non-null    float64\n",
            " 9   Loan_Amount_Term   600 non-null    float64\n",
            " 10  Credit_History     564 non-null    float64\n",
            " 11  Property_Area      614 non-null    object \n",
            " 12  Loan_Status        614 non-null    object \n",
            "dtypes: float64(4), int64(1), object(8)\n",
            "memory usage: 62.5+ KB\n"
          ]
        }
      ]
    },
    {
      "cell_type": "code",
      "metadata": {
        "colab": {
          "base_uri": "https://localhost:8080/",
          "height": 294
        },
        "id": "TuF9Msg1_PLu",
        "outputId": "5102eb3b-7ddd-427c-9452-88d9fab652fd"
      },
      "source": [
        "train.describe()"
      ],
      "execution_count": null,
      "outputs": [
        {
          "output_type": "execute_result",
          "data": {
            "text/html": [
              "<div>\n",
              "<style scoped>\n",
              "    .dataframe tbody tr th:only-of-type {\n",
              "        vertical-align: middle;\n",
              "    }\n",
              "\n",
              "    .dataframe tbody tr th {\n",
              "        vertical-align: top;\n",
              "    }\n",
              "\n",
              "    .dataframe thead th {\n",
              "        text-align: right;\n",
              "    }\n",
              "</style>\n",
              "<table border=\"1\" class=\"dataframe\">\n",
              "  <thead>\n",
              "    <tr style=\"text-align: right;\">\n",
              "      <th></th>\n",
              "      <th>ApplicantIncome</th>\n",
              "      <th>CoapplicantIncome</th>\n",
              "      <th>LoanAmount</th>\n",
              "      <th>Loan_Amount_Term</th>\n",
              "      <th>Credit_History</th>\n",
              "    </tr>\n",
              "  </thead>\n",
              "  <tbody>\n",
              "    <tr>\n",
              "      <th>count</th>\n",
              "      <td>614.000000</td>\n",
              "      <td>614.000000</td>\n",
              "      <td>592.000000</td>\n",
              "      <td>600.00000</td>\n",
              "      <td>564.000000</td>\n",
              "    </tr>\n",
              "    <tr>\n",
              "      <th>mean</th>\n",
              "      <td>5403.459283</td>\n",
              "      <td>1621.245798</td>\n",
              "      <td>146.412162</td>\n",
              "      <td>342.00000</td>\n",
              "      <td>0.842199</td>\n",
              "    </tr>\n",
              "    <tr>\n",
              "      <th>std</th>\n",
              "      <td>6109.041673</td>\n",
              "      <td>2926.248369</td>\n",
              "      <td>85.587325</td>\n",
              "      <td>65.12041</td>\n",
              "      <td>0.364878</td>\n",
              "    </tr>\n",
              "    <tr>\n",
              "      <th>min</th>\n",
              "      <td>150.000000</td>\n",
              "      <td>0.000000</td>\n",
              "      <td>9.000000</td>\n",
              "      <td>12.00000</td>\n",
              "      <td>0.000000</td>\n",
              "    </tr>\n",
              "    <tr>\n",
              "      <th>25%</th>\n",
              "      <td>2877.500000</td>\n",
              "      <td>0.000000</td>\n",
              "      <td>100.000000</td>\n",
              "      <td>360.00000</td>\n",
              "      <td>1.000000</td>\n",
              "    </tr>\n",
              "    <tr>\n",
              "      <th>50%</th>\n",
              "      <td>3812.500000</td>\n",
              "      <td>1188.500000</td>\n",
              "      <td>128.000000</td>\n",
              "      <td>360.00000</td>\n",
              "      <td>1.000000</td>\n",
              "    </tr>\n",
              "    <tr>\n",
              "      <th>75%</th>\n",
              "      <td>5795.000000</td>\n",
              "      <td>2297.250000</td>\n",
              "      <td>168.000000</td>\n",
              "      <td>360.00000</td>\n",
              "      <td>1.000000</td>\n",
              "    </tr>\n",
              "    <tr>\n",
              "      <th>max</th>\n",
              "      <td>81000.000000</td>\n",
              "      <td>41667.000000</td>\n",
              "      <td>700.000000</td>\n",
              "      <td>480.00000</td>\n",
              "      <td>1.000000</td>\n",
              "    </tr>\n",
              "  </tbody>\n",
              "</table>\n",
              "</div>"
            ],
            "text/plain": [
              "       ApplicantIncome  CoapplicantIncome  ...  Loan_Amount_Term  Credit_History\n",
              "count       614.000000         614.000000  ...         600.00000      564.000000\n",
              "mean       5403.459283        1621.245798  ...         342.00000        0.842199\n",
              "std        6109.041673        2926.248369  ...          65.12041        0.364878\n",
              "min         150.000000           0.000000  ...          12.00000        0.000000\n",
              "25%        2877.500000           0.000000  ...         360.00000        1.000000\n",
              "50%        3812.500000        1188.500000  ...         360.00000        1.000000\n",
              "75%        5795.000000        2297.250000  ...         360.00000        1.000000\n",
              "max       81000.000000       41667.000000  ...         480.00000        1.000000\n",
              "\n",
              "[8 rows x 5 columns]"
            ]
          },
          "metadata": {},
          "execution_count": 8
        }
      ]
    },
    {
      "cell_type": "code",
      "metadata": {
        "colab": {
          "base_uri": "https://localhost:8080/"
        },
        "id": "a18vzGAR_VQA",
        "outputId": "1bdaadf1-3f81-4e3b-bfd2-94537754c006"
      },
      "source": [
        "train.isnull().sum()"
      ],
      "execution_count": null,
      "outputs": [
        {
          "output_type": "execute_result",
          "data": {
            "text/plain": [
              "Loan_ID               0\n",
              "Gender               13\n",
              "Married               3\n",
              "Dependents           15\n",
              "Education             0\n",
              "Self_Employed        32\n",
              "ApplicantIncome       0\n",
              "CoapplicantIncome     0\n",
              "LoanAmount           22\n",
              "Loan_Amount_Term     14\n",
              "Credit_History       50\n",
              "Property_Area         0\n",
              "Loan_Status           0\n",
              "dtype: int64"
            ]
          },
          "metadata": {},
          "execution_count": 9
        }
      ]
    },
    {
      "cell_type": "markdown",
      "metadata": {
        "id": "miKP7_hhn289"
      },
      "source": [
        "### Testing Data"
      ]
    },
    {
      "cell_type": "code",
      "metadata": {
        "colab": {
          "base_uri": "https://localhost:8080/",
          "height": 238
        },
        "id": "F2rf0qqvn6PG",
        "outputId": "c004583b-e8f0-413c-9f54-6bb1104174d3"
      },
      "source": [
        "test.head()"
      ],
      "execution_count": null,
      "outputs": [
        {
          "output_type": "execute_result",
          "data": {
            "text/html": [
              "<div>\n",
              "<style scoped>\n",
              "    .dataframe tbody tr th:only-of-type {\n",
              "        vertical-align: middle;\n",
              "    }\n",
              "\n",
              "    .dataframe tbody tr th {\n",
              "        vertical-align: top;\n",
              "    }\n",
              "\n",
              "    .dataframe thead th {\n",
              "        text-align: right;\n",
              "    }\n",
              "</style>\n",
              "<table border=\"1\" class=\"dataframe\">\n",
              "  <thead>\n",
              "    <tr style=\"text-align: right;\">\n",
              "      <th></th>\n",
              "      <th>Loan_ID</th>\n",
              "      <th>Gender</th>\n",
              "      <th>Married</th>\n",
              "      <th>Dependents</th>\n",
              "      <th>Education</th>\n",
              "      <th>Self_Employed</th>\n",
              "      <th>ApplicantIncome</th>\n",
              "      <th>CoapplicantIncome</th>\n",
              "      <th>LoanAmount</th>\n",
              "      <th>Loan_Amount_Term</th>\n",
              "      <th>Credit_History</th>\n",
              "      <th>Property_Area</th>\n",
              "    </tr>\n",
              "  </thead>\n",
              "  <tbody>\n",
              "    <tr>\n",
              "      <th>0</th>\n",
              "      <td>LP001015</td>\n",
              "      <td>Male</td>\n",
              "      <td>Yes</td>\n",
              "      <td>0</td>\n",
              "      <td>Graduate</td>\n",
              "      <td>No</td>\n",
              "      <td>5720</td>\n",
              "      <td>0</td>\n",
              "      <td>110.0</td>\n",
              "      <td>360.0</td>\n",
              "      <td>1.0</td>\n",
              "      <td>Urban</td>\n",
              "    </tr>\n",
              "    <tr>\n",
              "      <th>1</th>\n",
              "      <td>LP001022</td>\n",
              "      <td>Male</td>\n",
              "      <td>Yes</td>\n",
              "      <td>1</td>\n",
              "      <td>Graduate</td>\n",
              "      <td>No</td>\n",
              "      <td>3076</td>\n",
              "      <td>1500</td>\n",
              "      <td>126.0</td>\n",
              "      <td>360.0</td>\n",
              "      <td>1.0</td>\n",
              "      <td>Urban</td>\n",
              "    </tr>\n",
              "    <tr>\n",
              "      <th>2</th>\n",
              "      <td>LP001031</td>\n",
              "      <td>Male</td>\n",
              "      <td>Yes</td>\n",
              "      <td>2</td>\n",
              "      <td>Graduate</td>\n",
              "      <td>No</td>\n",
              "      <td>5000</td>\n",
              "      <td>1800</td>\n",
              "      <td>208.0</td>\n",
              "      <td>360.0</td>\n",
              "      <td>1.0</td>\n",
              "      <td>Urban</td>\n",
              "    </tr>\n",
              "    <tr>\n",
              "      <th>3</th>\n",
              "      <td>LP001035</td>\n",
              "      <td>Male</td>\n",
              "      <td>Yes</td>\n",
              "      <td>2</td>\n",
              "      <td>Graduate</td>\n",
              "      <td>No</td>\n",
              "      <td>2340</td>\n",
              "      <td>2546</td>\n",
              "      <td>100.0</td>\n",
              "      <td>360.0</td>\n",
              "      <td>NaN</td>\n",
              "      <td>Urban</td>\n",
              "    </tr>\n",
              "    <tr>\n",
              "      <th>4</th>\n",
              "      <td>LP001051</td>\n",
              "      <td>Male</td>\n",
              "      <td>No</td>\n",
              "      <td>0</td>\n",
              "      <td>Not Graduate</td>\n",
              "      <td>No</td>\n",
              "      <td>3276</td>\n",
              "      <td>0</td>\n",
              "      <td>78.0</td>\n",
              "      <td>360.0</td>\n",
              "      <td>1.0</td>\n",
              "      <td>Urban</td>\n",
              "    </tr>\n",
              "  </tbody>\n",
              "</table>\n",
              "</div>"
            ],
            "text/plain": [
              "    Loan_ID Gender Married  ... Loan_Amount_Term Credit_History Property_Area\n",
              "0  LP001015   Male     Yes  ...            360.0            1.0         Urban\n",
              "1  LP001022   Male     Yes  ...            360.0            1.0         Urban\n",
              "2  LP001031   Male     Yes  ...            360.0            1.0         Urban\n",
              "3  LP001035   Male     Yes  ...            360.0            NaN         Urban\n",
              "4  LP001051   Male      No  ...            360.0            1.0         Urban\n",
              "\n",
              "[5 rows x 12 columns]"
            ]
          },
          "metadata": {},
          "execution_count": 10
        }
      ]
    },
    {
      "cell_type": "code",
      "metadata": {
        "colab": {
          "base_uri": "https://localhost:8080/",
          "height": 238
        },
        "id": "zJYHLB8zn9CJ",
        "outputId": "9b53be01-3220-4433-abe1-0f2fa8fd923c"
      },
      "source": [
        "test.tail()"
      ],
      "execution_count": null,
      "outputs": [
        {
          "output_type": "execute_result",
          "data": {
            "text/html": [
              "<div>\n",
              "<style scoped>\n",
              "    .dataframe tbody tr th:only-of-type {\n",
              "        vertical-align: middle;\n",
              "    }\n",
              "\n",
              "    .dataframe tbody tr th {\n",
              "        vertical-align: top;\n",
              "    }\n",
              "\n",
              "    .dataframe thead th {\n",
              "        text-align: right;\n",
              "    }\n",
              "</style>\n",
              "<table border=\"1\" class=\"dataframe\">\n",
              "  <thead>\n",
              "    <tr style=\"text-align: right;\">\n",
              "      <th></th>\n",
              "      <th>Loan_ID</th>\n",
              "      <th>Gender</th>\n",
              "      <th>Married</th>\n",
              "      <th>Dependents</th>\n",
              "      <th>Education</th>\n",
              "      <th>Self_Employed</th>\n",
              "      <th>ApplicantIncome</th>\n",
              "      <th>CoapplicantIncome</th>\n",
              "      <th>LoanAmount</th>\n",
              "      <th>Loan_Amount_Term</th>\n",
              "      <th>Credit_History</th>\n",
              "      <th>Property_Area</th>\n",
              "    </tr>\n",
              "  </thead>\n",
              "  <tbody>\n",
              "    <tr>\n",
              "      <th>362</th>\n",
              "      <td>LP002971</td>\n",
              "      <td>Male</td>\n",
              "      <td>Yes</td>\n",
              "      <td>3+</td>\n",
              "      <td>Not Graduate</td>\n",
              "      <td>Yes</td>\n",
              "      <td>4009</td>\n",
              "      <td>1777</td>\n",
              "      <td>113.0</td>\n",
              "      <td>360.0</td>\n",
              "      <td>1.0</td>\n",
              "      <td>Urban</td>\n",
              "    </tr>\n",
              "    <tr>\n",
              "      <th>363</th>\n",
              "      <td>LP002975</td>\n",
              "      <td>Male</td>\n",
              "      <td>Yes</td>\n",
              "      <td>0</td>\n",
              "      <td>Graduate</td>\n",
              "      <td>No</td>\n",
              "      <td>4158</td>\n",
              "      <td>709</td>\n",
              "      <td>115.0</td>\n",
              "      <td>360.0</td>\n",
              "      <td>1.0</td>\n",
              "      <td>Urban</td>\n",
              "    </tr>\n",
              "    <tr>\n",
              "      <th>364</th>\n",
              "      <td>LP002980</td>\n",
              "      <td>Male</td>\n",
              "      <td>No</td>\n",
              "      <td>0</td>\n",
              "      <td>Graduate</td>\n",
              "      <td>No</td>\n",
              "      <td>3250</td>\n",
              "      <td>1993</td>\n",
              "      <td>126.0</td>\n",
              "      <td>360.0</td>\n",
              "      <td>NaN</td>\n",
              "      <td>Semiurban</td>\n",
              "    </tr>\n",
              "    <tr>\n",
              "      <th>365</th>\n",
              "      <td>LP002986</td>\n",
              "      <td>Male</td>\n",
              "      <td>Yes</td>\n",
              "      <td>0</td>\n",
              "      <td>Graduate</td>\n",
              "      <td>No</td>\n",
              "      <td>5000</td>\n",
              "      <td>2393</td>\n",
              "      <td>158.0</td>\n",
              "      <td>360.0</td>\n",
              "      <td>1.0</td>\n",
              "      <td>Rural</td>\n",
              "    </tr>\n",
              "    <tr>\n",
              "      <th>366</th>\n",
              "      <td>LP002989</td>\n",
              "      <td>Male</td>\n",
              "      <td>No</td>\n",
              "      <td>0</td>\n",
              "      <td>Graduate</td>\n",
              "      <td>Yes</td>\n",
              "      <td>9200</td>\n",
              "      <td>0</td>\n",
              "      <td>98.0</td>\n",
              "      <td>180.0</td>\n",
              "      <td>1.0</td>\n",
              "      <td>Rural</td>\n",
              "    </tr>\n",
              "  </tbody>\n",
              "</table>\n",
              "</div>"
            ],
            "text/plain": [
              "      Loan_ID Gender Married  ... Loan_Amount_Term Credit_History Property_Area\n",
              "362  LP002971   Male     Yes  ...            360.0            1.0         Urban\n",
              "363  LP002975   Male     Yes  ...            360.0            1.0         Urban\n",
              "364  LP002980   Male      No  ...            360.0            NaN     Semiurban\n",
              "365  LP002986   Male     Yes  ...            360.0            1.0         Rural\n",
              "366  LP002989   Male      No  ...            180.0            1.0         Rural\n",
              "\n",
              "[5 rows x 12 columns]"
            ]
          },
          "metadata": {},
          "execution_count": 11
        }
      ]
    },
    {
      "cell_type": "code",
      "metadata": {
        "colab": {
          "base_uri": "https://localhost:8080/"
        },
        "id": "epbrmCzaoB7z",
        "outputId": "b5197d80-1526-46f0-adff-c4c5d0cbc58f"
      },
      "source": [
        "test.shape"
      ],
      "execution_count": null,
      "outputs": [
        {
          "output_type": "execute_result",
          "data": {
            "text/plain": [
              "(367, 12)"
            ]
          },
          "metadata": {},
          "execution_count": 12
        }
      ]
    },
    {
      "cell_type": "code",
      "metadata": {
        "colab": {
          "base_uri": "https://localhost:8080/"
        },
        "id": "izkmNULjoB4T",
        "outputId": "549525b6-36ea-439e-9434-91a2326f21ca"
      },
      "source": [
        "test.info()"
      ],
      "execution_count": null,
      "outputs": [
        {
          "output_type": "stream",
          "name": "stdout",
          "text": [
            "<class 'pandas.core.frame.DataFrame'>\n",
            "RangeIndex: 367 entries, 0 to 366\n",
            "Data columns (total 12 columns):\n",
            " #   Column             Non-Null Count  Dtype  \n",
            "---  ------             --------------  -----  \n",
            " 0   Loan_ID            367 non-null    object \n",
            " 1   Gender             356 non-null    object \n",
            " 2   Married            367 non-null    object \n",
            " 3   Dependents         357 non-null    object \n",
            " 4   Education          367 non-null    object \n",
            " 5   Self_Employed      344 non-null    object \n",
            " 6   ApplicantIncome    367 non-null    int64  \n",
            " 7   CoapplicantIncome  367 non-null    int64  \n",
            " 8   LoanAmount         362 non-null    float64\n",
            " 9   Loan_Amount_Term   361 non-null    float64\n",
            " 10  Credit_History     338 non-null    float64\n",
            " 11  Property_Area      367 non-null    object \n",
            "dtypes: float64(3), int64(2), object(7)\n",
            "memory usage: 34.5+ KB\n"
          ]
        }
      ]
    },
    {
      "cell_type": "code",
      "metadata": {
        "colab": {
          "base_uri": "https://localhost:8080/",
          "height": 294
        },
        "id": "-9g4XLxkoB15",
        "outputId": "bf6e9def-3415-4362-d4e8-593637a14e4c"
      },
      "source": [
        "test.describe()"
      ],
      "execution_count": null,
      "outputs": [
        {
          "output_type": "execute_result",
          "data": {
            "text/html": [
              "<div>\n",
              "<style scoped>\n",
              "    .dataframe tbody tr th:only-of-type {\n",
              "        vertical-align: middle;\n",
              "    }\n",
              "\n",
              "    .dataframe tbody tr th {\n",
              "        vertical-align: top;\n",
              "    }\n",
              "\n",
              "    .dataframe thead th {\n",
              "        text-align: right;\n",
              "    }\n",
              "</style>\n",
              "<table border=\"1\" class=\"dataframe\">\n",
              "  <thead>\n",
              "    <tr style=\"text-align: right;\">\n",
              "      <th></th>\n",
              "      <th>ApplicantIncome</th>\n",
              "      <th>CoapplicantIncome</th>\n",
              "      <th>LoanAmount</th>\n",
              "      <th>Loan_Amount_Term</th>\n",
              "      <th>Credit_History</th>\n",
              "    </tr>\n",
              "  </thead>\n",
              "  <tbody>\n",
              "    <tr>\n",
              "      <th>count</th>\n",
              "      <td>367.000000</td>\n",
              "      <td>367.000000</td>\n",
              "      <td>362.000000</td>\n",
              "      <td>361.000000</td>\n",
              "      <td>338.000000</td>\n",
              "    </tr>\n",
              "    <tr>\n",
              "      <th>mean</th>\n",
              "      <td>4805.599455</td>\n",
              "      <td>1569.577657</td>\n",
              "      <td>136.132597</td>\n",
              "      <td>342.537396</td>\n",
              "      <td>0.825444</td>\n",
              "    </tr>\n",
              "    <tr>\n",
              "      <th>std</th>\n",
              "      <td>4910.685399</td>\n",
              "      <td>2334.232099</td>\n",
              "      <td>61.366652</td>\n",
              "      <td>65.156643</td>\n",
              "      <td>0.380150</td>\n",
              "    </tr>\n",
              "    <tr>\n",
              "      <th>min</th>\n",
              "      <td>0.000000</td>\n",
              "      <td>0.000000</td>\n",
              "      <td>28.000000</td>\n",
              "      <td>6.000000</td>\n",
              "      <td>0.000000</td>\n",
              "    </tr>\n",
              "    <tr>\n",
              "      <th>25%</th>\n",
              "      <td>2864.000000</td>\n",
              "      <td>0.000000</td>\n",
              "      <td>100.250000</td>\n",
              "      <td>360.000000</td>\n",
              "      <td>1.000000</td>\n",
              "    </tr>\n",
              "    <tr>\n",
              "      <th>50%</th>\n",
              "      <td>3786.000000</td>\n",
              "      <td>1025.000000</td>\n",
              "      <td>125.000000</td>\n",
              "      <td>360.000000</td>\n",
              "      <td>1.000000</td>\n",
              "    </tr>\n",
              "    <tr>\n",
              "      <th>75%</th>\n",
              "      <td>5060.000000</td>\n",
              "      <td>2430.500000</td>\n",
              "      <td>158.000000</td>\n",
              "      <td>360.000000</td>\n",
              "      <td>1.000000</td>\n",
              "    </tr>\n",
              "    <tr>\n",
              "      <th>max</th>\n",
              "      <td>72529.000000</td>\n",
              "      <td>24000.000000</td>\n",
              "      <td>550.000000</td>\n",
              "      <td>480.000000</td>\n",
              "      <td>1.000000</td>\n",
              "    </tr>\n",
              "  </tbody>\n",
              "</table>\n",
              "</div>"
            ],
            "text/plain": [
              "       ApplicantIncome  CoapplicantIncome  ...  Loan_Amount_Term  Credit_History\n",
              "count       367.000000         367.000000  ...        361.000000      338.000000\n",
              "mean       4805.599455        1569.577657  ...        342.537396        0.825444\n",
              "std        4910.685399        2334.232099  ...         65.156643        0.380150\n",
              "min           0.000000           0.000000  ...          6.000000        0.000000\n",
              "25%        2864.000000           0.000000  ...        360.000000        1.000000\n",
              "50%        3786.000000        1025.000000  ...        360.000000        1.000000\n",
              "75%        5060.000000        2430.500000  ...        360.000000        1.000000\n",
              "max       72529.000000       24000.000000  ...        480.000000        1.000000\n",
              "\n",
              "[8 rows x 5 columns]"
            ]
          },
          "metadata": {},
          "execution_count": 14
        }
      ]
    },
    {
      "cell_type": "code",
      "metadata": {
        "colab": {
          "base_uri": "https://localhost:8080/"
        },
        "id": "VHFaN5Ag-L4N",
        "outputId": "c371adb0-7025-4d22-9da4-e762f05e0ce2"
      },
      "source": [
        "test.isnull().sum()"
      ],
      "execution_count": null,
      "outputs": [
        {
          "output_type": "execute_result",
          "data": {
            "text/plain": [
              "Loan_ID               0\n",
              "Gender               11\n",
              "Married               0\n",
              "Dependents           10\n",
              "Education             0\n",
              "Self_Employed        23\n",
              "ApplicantIncome       0\n",
              "CoapplicantIncome     0\n",
              "LoanAmount            5\n",
              "Loan_Amount_Term      6\n",
              "Credit_History       29\n",
              "Property_Area         0\n",
              "dtype: int64"
            ]
          },
          "metadata": {},
          "execution_count": 15
        }
      ]
    },
    {
      "cell_type": "markdown",
      "metadata": {
        "id": "ME5rCETaMVBT"
      },
      "source": [
        "## Data Cleaning"
      ]
    },
    {
      "cell_type": "code",
      "metadata": {
        "id": "h0MzFw12z082"
      },
      "source": [
        "train['Gender'].fillna(train['Gender'].mode()[0], inplace=True)\n",
        "\n",
        "train['Married'].fillna(train['Married'].mode()[0], inplace=True)\n",
        "\n",
        "train['Dependents'].fillna(train['Dependents'].mode()[0], inplace=True)\n",
        "\n",
        "train['Self_Employed'].fillna(train['Self_Employed'].mode()[0], inplace=True)\n",
        "\n",
        "train['LoanAmount'].fillna(train['LoanAmount'].mean(), inplace=True)\n",
        "\n",
        "train['Loan_Amount_Term'].fillna(train['Loan_Amount_Term'].mode()[0], inplace=True)\n",
        "\n",
        "train['Credit_History'].fillna(train['Credit_History'].mode()[0], inplace=True)"
      ],
      "execution_count": null,
      "outputs": []
    },
    {
      "cell_type": "code",
      "metadata": {
        "id": "wM5HSnX4GEGR"
      },
      "source": [
        "test['Gender'].fillna(test['Gender'].mode()[0], inplace=True)\n",
        "\n",
        "test['Married'].fillna(test['Married'].mode()[0], inplace=True)\n",
        "\n",
        "test['Dependents'].fillna(test['Dependents'].mode()[0], inplace=True)\n",
        "\n",
        "test['Self_Employed'].fillna(test['Self_Employed'].mode()[0], inplace=True)\n",
        "\n",
        "test['LoanAmount'].fillna(test['LoanAmount'].mean(), inplace=True)\n",
        "\n",
        "test['Loan_Amount_Term'].fillna(test['Loan_Amount_Term'].mode()[0], inplace=True)\n",
        "\n",
        "test['Credit_History'].fillna(test['Credit_History'].mode()[0], inplace=True)"
      ],
      "execution_count": null,
      "outputs": []
    },
    {
      "cell_type": "markdown",
      "metadata": {
        "id": "ezQfwmD15_BI"
      },
      "source": [
        "# Exploratory Data Analysis"
      ]
    },
    {
      "cell_type": "markdown",
      "metadata": {
        "id": "nx1V3yeNlBA6"
      },
      "source": [
        "## 1. What's the ratio of Male to Female?"
      ]
    },
    {
      "cell_type": "code",
      "metadata": {
        "id": "eQ9C1SgOnckV"
      },
      "source": [
        "male = train['Gender'].value_counts()['Male']/train['Gender'].count()\n",
        "female = train['Gender'].value_counts()['Female']/train['Gender'].count()"
      ],
      "execution_count": null,
      "outputs": []
    },
    {
      "cell_type": "markdown",
      "metadata": {
        "id": "kIpc0LD06c8v"
      },
      "source": [
        "The ratio of Male: Female is 0.82 : 0.18"
      ]
    },
    {
      "cell_type": "markdown",
      "metadata": {
        "id": "vJZSqA4jlKV5"
      },
      "source": [
        "## 2. How many Males are married and non-married?\n",
        "### And\n",
        "## 3. How many Females are married and non-married?"
      ]
    },
    {
      "cell_type": "code",
      "metadata": {
        "colab": {
          "base_uri": "https://localhost:8080/"
        },
        "id": "Z9r4m_vpnCsB",
        "outputId": "118f1580-ce19-45e0-e491-642edf414bfd"
      },
      "source": [
        "train.groupby(['Married','Gender'])['Gender'].count()"
      ],
      "execution_count": null,
      "outputs": [
        {
          "output_type": "execute_result",
          "data": {
            "text/plain": [
              "Married  Gender\n",
              "No       Female     80\n",
              "         Male      133\n",
              "Yes      Female     32\n",
              "         Male      369\n",
              "Name: Gender, dtype: int64"
            ]
          },
          "metadata": {},
          "execution_count": 19
        }
      ]
    },
    {
      "cell_type": "markdown",
      "metadata": {
        "id": "UNqegJjp6m8M"
      },
      "source": [
        "The number of males married are 369 and non married are 133\n",
        "\n",
        "The number of females married are 32 and non married are 80"
      ]
    },
    {
      "cell_type": "markdown",
      "metadata": {
        "id": "JDenFEavlT4M"
      },
      "source": [
        "## 4. How many Males and Females are graduated and non-graduated with respect to their Marital status?"
      ]
    },
    {
      "cell_type": "code",
      "metadata": {
        "colab": {
          "base_uri": "https://localhost:8080/"
        },
        "id": "NGtbNbFanCyO",
        "outputId": "4bb4af21-49b9-4113-92e6-514aab70db79"
      },
      "source": [
        "train.groupby(['Gender','Education','Married'])['Gender'].count()"
      ],
      "execution_count": null,
      "outputs": [
        {
          "output_type": "execute_result",
          "data": {
            "text/plain": [
              "Gender  Education     Married\n",
              "Female  Graduate      No          66\n",
              "                      Yes         26\n",
              "        Not Graduate  No          14\n",
              "                      Yes          6\n",
              "Male    Graduate      No         102\n",
              "                      Yes        286\n",
              "        Not Graduate  No          31\n",
              "                      Yes         83\n",
              "Name: Gender, dtype: int64"
            ]
          },
          "metadata": {},
          "execution_count": 20
        }
      ]
    },
    {
      "cell_type": "markdown",
      "metadata": {
        "id": "eoXdz_KE6wyd"
      },
      "source": [
        "The number of graduated and Not married females are 66\n",
        "\n",
        "The number of graduated and married females are 26\n",
        "\n",
        "The number of Not graduated and Not married females are 14\n",
        "\n",
        "The number of Not graduated and married females are 6\n",
        "\n",
        "The number of graduated and Not married males are 102\n",
        "\n",
        "The number of graduated and married males are 286\n",
        "\n",
        "The number of Not graduated and Not married males are 31\n",
        "\n",
        "The number of Not graduated and married males are 83"
      ]
    },
    {
      "cell_type": "markdown",
      "metadata": {
        "id": "b0ozCBQblajW"
      },
      "source": [
        "## 5. Which type of encoding will be required to perform on the \"Education\" column?"
      ]
    },
    {
      "cell_type": "code",
      "metadata": {
        "id": "9V25cKxuxYGP"
      },
      "source": [
        "label_encoder = LabelEncoder()"
      ],
      "execution_count": null,
      "outputs": []
    },
    {
      "cell_type": "code",
      "metadata": {
        "id": "779HusdOnDUV"
      },
      "source": [
        "train['Education'] = label_encoder.fit_transform(train['Education'].values)"
      ],
      "execution_count": null,
      "outputs": []
    },
    {
      "cell_type": "code",
      "metadata": {
        "colab": {
          "base_uri": "https://localhost:8080/",
          "height": 202
        },
        "id": "NKLufnkSyJb5",
        "outputId": "63ca856c-b766-4c7c-cd19-711ee08f60cb"
      },
      "source": [
        "train[[\"Education\"]].head()"
      ],
      "execution_count": null,
      "outputs": [
        {
          "output_type": "execute_result",
          "data": {
            "text/html": [
              "<div>\n",
              "<style scoped>\n",
              "    .dataframe tbody tr th:only-of-type {\n",
              "        vertical-align: middle;\n",
              "    }\n",
              "\n",
              "    .dataframe tbody tr th {\n",
              "        vertical-align: top;\n",
              "    }\n",
              "\n",
              "    .dataframe thead th {\n",
              "        text-align: right;\n",
              "    }\n",
              "</style>\n",
              "<table border=\"1\" class=\"dataframe\">\n",
              "  <thead>\n",
              "    <tr style=\"text-align: right;\">\n",
              "      <th></th>\n",
              "      <th>Education</th>\n",
              "    </tr>\n",
              "  </thead>\n",
              "  <tbody>\n",
              "    <tr>\n",
              "      <th>0</th>\n",
              "      <td>0</td>\n",
              "    </tr>\n",
              "    <tr>\n",
              "      <th>1</th>\n",
              "      <td>0</td>\n",
              "    </tr>\n",
              "    <tr>\n",
              "      <th>2</th>\n",
              "      <td>0</td>\n",
              "    </tr>\n",
              "    <tr>\n",
              "      <th>3</th>\n",
              "      <td>1</td>\n",
              "    </tr>\n",
              "    <tr>\n",
              "      <th>4</th>\n",
              "      <td>0</td>\n",
              "    </tr>\n",
              "  </tbody>\n",
              "</table>\n",
              "</div>"
            ],
            "text/plain": [
              "   Education\n",
              "0          0\n",
              "1          0\n",
              "2          0\n",
              "3          1\n",
              "4          0"
            ]
          },
          "metadata": {},
          "execution_count": 23
        }
      ]
    },
    {
      "cell_type": "markdown",
      "metadata": {
        "id": "_3XD9qkgi2mX"
      },
      "source": [
        "As shown above, lable encoding will be performed on the education column\n"
      ]
    },
    {
      "cell_type": "markdown",
      "metadata": {
        "id": "bZzPxORoqyt6"
      },
      "source": [
        "## 6. Is it a male or a female whose loan amount is the highest?"
      ]
    },
    {
      "cell_type": "code",
      "metadata": {
        "colab": {
          "base_uri": "https://localhost:8080/"
        },
        "id": "n-kSL7ugya2Q",
        "outputId": "44bbfbe6-841b-466b-89b3-cd049efd39c7"
      },
      "source": [
        "print(train[train.LoanAmount==train[\"LoanAmount\"].max()][\"Gender\"])"
      ],
      "execution_count": null,
      "outputs": [
        {
          "output_type": "stream",
          "name": "stdout",
          "text": [
            "171    Male\n",
            "Name: Gender, dtype: object\n"
          ]
        }
      ]
    },
    {
      "cell_type": "markdown",
      "metadata": {
        "id": "E0FnJICejfv_"
      },
      "source": [
        "It is a male whose loan amount is highest"
      ]
    },
    {
      "cell_type": "markdown",
      "metadata": {
        "id": "yWwty9Cvq4_i"
      },
      "source": [
        "## 7. The specification and information about the applicant who has the highest income?"
      ]
    },
    {
      "cell_type": "code",
      "metadata": {
        "colab": {
          "base_uri": "https://localhost:8080/",
          "height": 99
        },
        "id": "KxnfqJ0G0Lqs",
        "outputId": "fe853f21-829e-43d7-c158-6d62ae2d472b"
      },
      "source": [
        "train[train.ApplicantIncome==train[\"ApplicantIncome\"].max()]"
      ],
      "execution_count": null,
      "outputs": [
        {
          "output_type": "execute_result",
          "data": {
            "text/html": [
              "<div>\n",
              "<style scoped>\n",
              "    .dataframe tbody tr th:only-of-type {\n",
              "        vertical-align: middle;\n",
              "    }\n",
              "\n",
              "    .dataframe tbody tr th {\n",
              "        vertical-align: top;\n",
              "    }\n",
              "\n",
              "    .dataframe thead th {\n",
              "        text-align: right;\n",
              "    }\n",
              "</style>\n",
              "<table border=\"1\" class=\"dataframe\">\n",
              "  <thead>\n",
              "    <tr style=\"text-align: right;\">\n",
              "      <th></th>\n",
              "      <th>Loan_ID</th>\n",
              "      <th>Gender</th>\n",
              "      <th>Married</th>\n",
              "      <th>Dependents</th>\n",
              "      <th>Education</th>\n",
              "      <th>Self_Employed</th>\n",
              "      <th>ApplicantIncome</th>\n",
              "      <th>CoapplicantIncome</th>\n",
              "      <th>LoanAmount</th>\n",
              "      <th>Loan_Amount_Term</th>\n",
              "      <th>Credit_History</th>\n",
              "      <th>Property_Area</th>\n",
              "      <th>Loan_Status</th>\n",
              "    </tr>\n",
              "  </thead>\n",
              "  <tbody>\n",
              "    <tr>\n",
              "      <th>409</th>\n",
              "      <td>LP002317</td>\n",
              "      <td>Male</td>\n",
              "      <td>Yes</td>\n",
              "      <td>3+</td>\n",
              "      <td>0</td>\n",
              "      <td>No</td>\n",
              "      <td>81000</td>\n",
              "      <td>0.0</td>\n",
              "      <td>360.0</td>\n",
              "      <td>360.0</td>\n",
              "      <td>0.0</td>\n",
              "      <td>Rural</td>\n",
              "      <td>N</td>\n",
              "    </tr>\n",
              "  </tbody>\n",
              "</table>\n",
              "</div>"
            ],
            "text/plain": [
              "      Loan_ID Gender Married  ... Credit_History  Property_Area Loan_Status\n",
              "409  LP002317   Male     Yes  ...            0.0          Rural           N\n",
              "\n",
              "[1 rows x 13 columns]"
            ]
          },
          "metadata": {},
          "execution_count": 25
        }
      ]
    },
    {
      "cell_type": "markdown",
      "metadata": {
        "id": "O3JxYa5W1CHN"
      },
      "source": [
        "# Machine Learning"
      ]
    },
    {
      "cell_type": "markdown",
      "metadata": {
        "id": "VVhUjahg1MrW"
      },
      "source": [
        "## Data Encoding"
      ]
    },
    {
      "cell_type": "code",
      "metadata": {
        "id": "bv6wdQh9_nOZ"
      },
      "source": [
        "feature_train = ['Gender','Married','Self_Employed','Property_Area','Loan_Status']\n",
        "\n",
        "for i in feature_train:\n",
        "    train[i] = label_encoder.fit_transform(train[i])"
      ],
      "execution_count": null,
      "outputs": []
    },
    {
      "cell_type": "code",
      "metadata": {
        "id": "ylajcnmEOpnx"
      },
      "source": [
        "feature_test = ['Gender','Married','Self_Employed','Property_Area']\n",
        "\n",
        "for i in feature_test:\n",
        "    test[i] = label_encoder.fit_transform(test[i])"
      ],
      "execution_count": null,
      "outputs": []
    },
    {
      "cell_type": "markdown",
      "metadata": {
        "id": "bR3EPir3MIzb"
      },
      "source": [
        "## 8. What all features are you going to consider for the model training and why? (Give the appropriate reason for choosing such features among others)"
      ]
    },
    {
      "cell_type": "markdown",
      "metadata": {
        "id": "gggiDd671eF1"
      },
      "source": [
        "##  Data Visualization"
      ]
    },
    {
      "cell_type": "code",
      "metadata": {
        "colab": {
          "base_uri": "https://localhost:8080/",
          "height": 700
        },
        "id": "rNZ07c7T_8t7",
        "outputId": "634539bb-6fa0-4a5f-d3da-f091d44fd027"
      },
      "source": [
        "plt.figure(figsize=(15,10))\n",
        "sns.heatmap(train.corr(), annot = True, cmap = \"Greens\", fmt=\"0.3f\")"
      ],
      "execution_count": null,
      "outputs": [
        {
          "output_type": "execute_result",
          "data": {
            "text/plain": [
              "<matplotlib.axes._subplots.AxesSubplot at 0x7fa81b18e8d0>"
            ]
          },
          "metadata": {},
          "execution_count": 28
        },
        {
          "output_type": "display_data",
          "data": {
            "image/png": "[encoded data removed]",
            "text/plain": [
              "<Figure size 1080x720 with 2 Axes>"
            ]
          },
          "metadata": {
            "needs_background": "light"
          }
        }
      ]
    },
    {
      "cell_type": "markdown",
      "metadata": {
        "id": "YhYjDI6-j34V"
      },
      "source": [
        "We will be using 'Gender', 'Married', 'Credit_History', 'Property_Area' as our featuresas it has higher correlation as compared to other columns"
      ]
    },
    {
      "cell_type": "markdown",
      "metadata": {
        "id": "cLuDRrD41leB"
      },
      "source": [
        "## Preparing the data for training the model"
      ]
    },
    {
      "cell_type": "code",
      "metadata": {
        "id": "NqdB3nYyDhf8"
      },
      "source": [
        "features = ['Gender', 'Married', 'Credit_History', 'Property_Area']\n",
        "\n",
        "X = train[features].values \n",
        "y = train['Loan_Status'].values "
      ],
      "execution_count": null,
      "outputs": []
    },
    {
      "cell_type": "markdown",
      "metadata": {
        "id": "QyzYKYiT1uOe"
      },
      "source": [
        "## Preporcessing the Data"
      ]
    },
    {
      "cell_type": "code",
      "metadata": {
        "id": "tqHjvwcM2Dl3"
      },
      "source": [
        "sc = StandardScaler()\n",
        "X = sc.fit_transform(X)"
      ],
      "execution_count": null,
      "outputs": []
    },
    {
      "cell_type": "markdown",
      "metadata": {
        "id": "ixIK-PR0G4NH"
      },
      "source": [
        "## Splitting the Dataset"
      ]
    },
    {
      "cell_type": "code",
      "metadata": {
        "id": "Fv_MDGczpIYb"
      },
      "source": [
        "X_train, X_test, y_train, y_test = train_test_split(X, y, test_size=0.3)"
      ],
      "execution_count": null,
      "outputs": []
    },
    {
      "cell_type": "markdown",
      "metadata": {
        "id": "lH7ERjLDMriU"
      },
      "source": [
        "## 9. Which model are you going to choose and define the reason for going with the same model?\n",
        "\n"
      ]
    },
    {
      "cell_type": "markdown",
      "metadata": {
        "id": "Ft3UOCDykVmJ"
      },
      "source": [
        "We will be using logistic reggression as our model as it gives a higher accuracy"
      ]
    },
    {
      "cell_type": "markdown",
      "metadata": {
        "id": "eJHc-NJzjWBr"
      },
      "source": [
        "## Choosing the model"
      ]
    },
    {
      "cell_type": "markdown",
      "metadata": {
        "id": "mG7Vpco3NGsH"
      },
      "source": [
        "## 10. Have you performed the Hyper Parameter Tuning?"
      ]
    },
    {
      "cell_type": "markdown",
      "metadata": {
        "id": "_0t937E2kl8v"
      },
      "source": [
        "Yes, hyper parameter tuning is performed"
      ]
    },
    {
      "cell_type": "code",
      "metadata": {
        "colab": {
          "base_uri": "https://localhost:8080/"
        },
        "id": "7lHNMms-a0ng",
        "outputId": "423784ff-724d-43eb-e80e-11ce21ecac3f"
      },
      "source": [
        "from sklearn.model_selection import GridSearchCV, cross_val_score\n",
        "\n",
        "grid = {'solver' : ['newton-cg', 'lbfgs', 'liblinear'],\n",
        "        'penalty' : ['l2'],\n",
        "        'C' : [100, 10, 1.0, 0.1, 0.01]\n",
        "        }\n",
        "\n",
        "gs = GridSearchCV(LogisticRegression(), grid, n_jobs=1, verbose=2,scoring='accuracy',return_train_score=True)\n",
        "\n",
        "# Perform/train Grid-search\n",
        "gs.fit(X_train, y_train)\n",
        "\n",
        "print('Best Parameters :',gs.best_params_)\n",
        "print('Mean Train Score :',round(gs.cv_results_['mean_train_score'].mean(),4))\n",
        "print('Mean Test Score :',round(gs.cv_results_['mean_test_score'].mean(),4))\n",
        "print('Best Test  Score :',round(gs.best_score_,4))"
      ],
      "execution_count": null,
      "outputs": [
        {
          "output_type": "stream",
          "name": "stdout",
          "text": [
            "Fitting 5 folds for each of 15 candidates, totalling 75 fits\n",
            "[CV] C=100, penalty=l2, solver=newton-cg .............................\n",
            "[CV] .............. C=100, penalty=l2, solver=newton-cg, total=   0.0s\n",
            "[CV] C=100, penalty=l2, solver=newton-cg .............................\n",
            "[CV] .............. C=100, penalty=l2, solver=newton-cg, total=   0.0s\n",
            "[CV] C=100, penalty=l2, solver=newton-cg .............................\n",
            "[CV] .............. C=100, penalty=l2, solver=newton-cg, total=   0.0s\n",
            "[CV] C=100, penalty=l2, solver=newton-cg .............................\n",
            "[CV] .............. C=100, penalty=l2, solver=newton-cg, total=   0.0s\n",
            "[CV] C=100, penalty=l2, solver=newton-cg .............................\n",
            "[CV] .............. C=100, penalty=l2, solver=newton-cg, total=   0.0s\n",
            "[CV] C=100, penalty=l2, solver=lbfgs .................................\n",
            "[CV] .................. C=100, penalty=l2, solver=lbfgs, total=   0.0s\n",
            "[CV] C=100, penalty=l2, solver=lbfgs .................................\n",
            "[CV] .................. C=100, penalty=l2, solver=lbfgs, total=   0.0s\n",
            "[CV] C=100, penalty=l2, solver=lbfgs .................................\n",
            "[CV] .................. C=100, penalty=l2, solver=lbfgs, total=   0.0s\n",
            "[CV] C=100, penalty=l2, solver=lbfgs .................................\n",
            "[CV] .................. C=100, penalty=l2, solver=lbfgs, total=   0.0s\n",
            "[CV] C=100, penalty=l2, solver=lbfgs .................................\n",
            "[CV] .................. C=100, penalty=l2, solver=lbfgs, total=   0.0s\n",
            "[CV] C=100, penalty=l2, solver=liblinear .............................\n",
            "[CV] .............. C=100, penalty=l2, solver=liblinear, total=   0.0s\n",
            "[CV] C=100, penalty=l2, solver=liblinear .............................\n",
            "[CV] .............. C=100, penalty=l2, solver=liblinear, total=   0.0s\n",
            "[CV] C=100, penalty=l2, solver=liblinear .............................\n",
            "[CV] .............. C=100, penalty=l2, solver=liblinear, total=   0.0s\n",
            "[CV] C=100, penalty=l2, solver=liblinear .............................\n",
            "[CV] .............. C=100, penalty=l2, solver=liblinear, total=   0.0s\n",
            "[CV] C=100, penalty=l2, solver=liblinear .............................\n",
            "[CV] .............. C=100, penalty=l2, solver=liblinear, total=   0.0s\n",
            "[CV] C=10, penalty=l2, solver=newton-cg ..............................\n",
            "[CV] ............... C=10, penalty=l2, solver=newton-cg, total=   0.0s\n",
            "[CV] C=10, penalty=l2, solver=newton-cg ..............................\n",
            "[CV] ............... C=10, penalty=l2, solver=newton-cg, total=   0.0s\n",
            "[CV] C=10, penalty=l2, solver=newton-cg ..............................\n",
            "[CV] ............... C=10, penalty=l2, solver=newton-cg, total=   0.0s\n",
            "[CV] C=10, penalty=l2, solver=newton-cg ..............................\n",
            "[CV] ............... C=10, penalty=l2, solver=newton-cg, total=   0.0s\n",
            "[CV] C=10, penalty=l2, solver=newton-cg ..............................\n",
            "[CV] ............... C=10, penalty=l2, solver=newton-cg, total=   0.0s\n",
            "[CV] C=10, penalty=l2, solver=lbfgs ..................................\n",
            "[CV] ................... C=10, penalty=l2, solver=lbfgs, total=   0.0s\n",
            "[CV] C=10, penalty=l2, solver=lbfgs ..................................\n",
            "[CV] ................... C=10, penalty=l2, solver=lbfgs, total=   0.0s\n",
            "[CV] C=10, penalty=l2, solver=lbfgs ..................................\n",
            "[CV] ................... C=10, penalty=l2, solver=lbfgs, total=   0.0s\n",
            "[CV] C=10, penalty=l2, solver=lbfgs ..................................\n",
            "[CV] ................... C=10, penalty=l2, solver=lbfgs, total=   0.0s\n",
            "[CV] C=10, penalty=l2, solver=lbfgs ..................................\n",
            "[CV] ................... C=10, penalty=l2, solver=lbfgs, total=   0.0s\n",
            "[CV] C=10, penalty=l2, solver=liblinear ..............................\n",
            "[CV] ............... C=10, penalty=l2, solver=liblinear, total=   0.0s\n",
            "[CV] C=10, penalty=l2, solver=liblinear ..............................\n",
            "[CV] ............... C=10, penalty=l2, solver=liblinear, total=   0.0s\n",
            "[CV] C=10, penalty=l2, solver=liblinear ..............................\n",
            "[CV] ............... C=10, penalty=l2, solver=liblinear, total=   0.0s\n",
            "[CV] C=10, penalty=l2, solver=liblinear ..............................\n",
            "[CV] ............... C=10, penalty=l2, solver=liblinear, total=   0.0s\n",
            "[CV] C=10, penalty=l2, solver=liblinear ..............................\n",
            "[CV] ............... C=10, penalty=l2, solver=liblinear, total=   0.0s\n",
            "[CV] C=1.0, penalty=l2, solver=newton-cg .............................\n",
            "[CV] .............. C=1.0, penalty=l2, solver=newton-cg, total=   0.0s\n",
            "[CV] C=1.0, penalty=l2, solver=newton-cg .............................\n",
            "[CV] .............. C=1.0, penalty=l2, solver=newton-cg, total=   0.0s\n",
            "[CV] C=1.0, penalty=l2, solver=newton-cg .............................\n",
            "[CV] .............. C=1.0, penalty=l2, solver=newton-cg, total=   0.0s\n",
            "[CV] C=1.0, penalty=l2, solver=newton-cg .............................\n",
            "[CV] .............. C=1.0, penalty=l2, solver=newton-cg, total=   0.0s\n",
            "[CV] C=1.0, penalty=l2, solver=newton-cg .............................\n"
          ]
        },
        {
          "output_type": "stream",
          "name": "stderr",
          "text": [
            "[Parallel(n_jobs=1)]: Using backend SequentialBackend with 1 concurrent workers.\n",
            "[Parallel(n_jobs=1)]: Done   1 out of   1 | elapsed:    0.0s remaining:    0.0s\n"
          ]
        },
        {
          "output_type": "stream",
          "name": "stdout",
          "text": [
            "[CV] .............. C=1.0, penalty=l2, solver=newton-cg, total=   0.0s\n",
            "[CV] C=1.0, penalty=l2, solver=lbfgs .................................\n",
            "[CV] .................. C=1.0, penalty=l2, solver=lbfgs, total=   0.0s\n",
            "[CV] C=1.0, penalty=l2, solver=lbfgs .................................\n",
            "[CV] .................. C=1.0, penalty=l2, solver=lbfgs, total=   0.0s\n",
            "[CV] C=1.0, penalty=l2, solver=lbfgs .................................\n",
            "[CV] .................. C=1.0, penalty=l2, solver=lbfgs, total=   0.0s\n",
            "[CV] C=1.0, penalty=l2, solver=lbfgs .................................\n",
            "[CV] .................. C=1.0, penalty=l2, solver=lbfgs, total=   0.0s\n",
            "[CV] C=1.0, penalty=l2, solver=lbfgs .................................\n",
            "[CV] .................. C=1.0, penalty=l2, solver=lbfgs, total=   0.0s\n",
            "[CV] C=1.0, penalty=l2, solver=liblinear .............................\n",
            "[CV] .............. C=1.0, penalty=l2, solver=liblinear, total=   0.0s\n",
            "[CV] C=1.0, penalty=l2, solver=liblinear .............................\n",
            "[CV] .............. C=1.0, penalty=l2, solver=liblinear, total=   0.0s\n",
            "[CV] C=1.0, penalty=l2, solver=liblinear .............................\n",
            "[CV] .............. C=1.0, penalty=l2, solver=liblinear, total=   0.0s\n",
            "[CV] C=1.0, penalty=l2, solver=liblinear .............................\n",
            "[CV] .............. C=1.0, penalty=l2, solver=liblinear, total=   0.0s\n",
            "[CV] C=1.0, penalty=l2, solver=liblinear .............................\n",
            "[CV] .............. C=1.0, penalty=l2, solver=liblinear, total=   0.0s\n",
            "[CV] C=0.1, penalty=l2, solver=newton-cg .............................\n",
            "[CV] .............. C=0.1, penalty=l2, solver=newton-cg, total=   0.0s\n",
            "[CV] C=0.1, penalty=l2, solver=newton-cg .............................\n",
            "[CV] .............. C=0.1, penalty=l2, solver=newton-cg, total=   0.0s\n",
            "[CV] C=0.1, penalty=l2, solver=newton-cg .............................\n",
            "[CV] .............. C=0.1, penalty=l2, solver=newton-cg, total=   0.0s\n",
            "[CV] C=0.1, penalty=l2, solver=newton-cg .............................\n",
            "[CV] .............. C=0.1, penalty=l2, solver=newton-cg, total=   0.0s\n",
            "[CV] C=0.1, penalty=l2, solver=newton-cg .............................\n",
            "[CV] .............. C=0.1, penalty=l2, solver=newton-cg, total=   0.0s\n",
            "[CV] C=0.1, penalty=l2, solver=lbfgs .................................\n",
            "[CV] .................. C=0.1, penalty=l2, solver=lbfgs, total=   0.0s\n",
            "[CV] C=0.1, penalty=l2, solver=lbfgs .................................\n",
            "[CV] .................. C=0.1, penalty=l2, solver=lbfgs, total=   0.0s\n",
            "[CV] C=0.1, penalty=l2, solver=lbfgs .................................\n",
            "[CV] .................. C=0.1, penalty=l2, solver=lbfgs, total=   0.0s\n",
            "[CV] C=0.1, penalty=l2, solver=lbfgs .................................\n",
            "[CV] .................. C=0.1, penalty=l2, solver=lbfgs, total=   0.0s\n",
            "[CV] C=0.1, penalty=l2, solver=lbfgs .................................\n",
            "[CV] .................. C=0.1, penalty=l2, solver=lbfgs, total=   0.0s\n",
            "[CV] C=0.1, penalty=l2, solver=liblinear .............................\n",
            "[CV] .............. C=0.1, penalty=l2, solver=liblinear, total=   0.0s\n",
            "[CV] C=0.1, penalty=l2, solver=liblinear .............................\n",
            "[CV] .............. C=0.1, penalty=l2, solver=liblinear, total=   0.0s\n",
            "[CV] C=0.1, penalty=l2, solver=liblinear .............................\n",
            "[CV] .............. C=0.1, penalty=l2, solver=liblinear, total=   0.0s\n",
            "[CV] C=0.1, penalty=l2, solver=liblinear .............................\n",
            "[CV] .............. C=0.1, penalty=l2, solver=liblinear, total=   0.0s\n",
            "[CV] C=0.1, penalty=l2, solver=liblinear .............................\n",
            "[CV] .............. C=0.1, penalty=l2, solver=liblinear, total=   0.0s\n",
            "[CV] C=0.01, penalty=l2, solver=newton-cg ............................\n",
            "[CV] ............. C=0.01, penalty=l2, solver=newton-cg, total=   0.0s\n",
            "[CV] C=0.01, penalty=l2, solver=newton-cg ............................\n",
            "[CV] ............. C=0.01, penalty=l2, solver=newton-cg, total=   0.0s\n",
            "[CV] C=0.01, penalty=l2, solver=newton-cg ............................\n",
            "[CV] ............. C=0.01, penalty=l2, solver=newton-cg, total=   0.0s\n",
            "[CV] C=0.01, penalty=l2, solver=newton-cg ............................\n",
            "[CV] ............. C=0.01, penalty=l2, solver=newton-cg, total=   0.0s\n",
            "[CV] C=0.01, penalty=l2, solver=newton-cg ............................\n",
            "[CV] ............. C=0.01, penalty=l2, solver=newton-cg, total=   0.0s\n",
            "[CV] C=0.01, penalty=l2, solver=lbfgs ................................\n",
            "[CV] ................. C=0.01, penalty=l2, solver=lbfgs, total=   0.0s\n",
            "[CV] C=0.01, penalty=l2, solver=lbfgs ................................\n",
            "[CV] ................. C=0.01, penalty=l2, solver=lbfgs, total=   0.0s\n",
            "[CV] C=0.01, penalty=l2, solver=lbfgs ................................\n",
            "[CV] ................. C=0.01, penalty=l2, solver=lbfgs, total=   0.0s\n",
            "[CV] C=0.01, penalty=l2, solver=lbfgs ................................\n",
            "[CV] ................. C=0.01, penalty=l2, solver=lbfgs, total=   0.0s\n",
            "[CV] C=0.01, penalty=l2, solver=lbfgs ................................\n",
            "[CV] ................. C=0.01, penalty=l2, solver=lbfgs, total=   0.0s\n",
            "[CV] C=0.01, penalty=l2, solver=liblinear ............................\n",
            "[CV] ............. C=0.01, penalty=l2, solver=liblinear, total=   0.0s\n",
            "[CV] C=0.01, penalty=l2, solver=liblinear ............................\n",
            "[CV] ............. C=0.01, penalty=l2, solver=liblinear, total=   0.0s\n",
            "[CV] C=0.01, penalty=l2, solver=liblinear ............................\n",
            "[CV] ............. C=0.01, penalty=l2, solver=liblinear, total=   0.0s\n",
            "[CV] C=0.01, penalty=l2, solver=liblinear ............................\n",
            "[CV] ............. C=0.01, penalty=l2, solver=liblinear, total=   0.0s\n",
            "[CV] C=0.01, penalty=l2, solver=liblinear ............................\n",
            "[CV] ............. C=0.01, penalty=l2, solver=liblinear, total=   0.0s\n",
            "Best Parameters : {'C': 100, 'penalty': 'l2', 'solver': 'newton-cg'}\n",
            "Mean Train Score : 0.7949\n",
            "Mean Test Score : 0.7949\n",
            "Best Test  Score : 0.7949\n"
          ]
        },
        {
          "output_type": "stream",
          "name": "stderr",
          "text": [
            "[Parallel(n_jobs=1)]: Done  75 out of  75 | elapsed:    0.4s finished\n"
          ]
        }
      ]
    },
    {
      "cell_type": "markdown",
      "metadata": {
        "id": "1QOA_MWSHSlQ"
      },
      "source": [
        "## Training the Model"
      ]
    },
    {
      "cell_type": "code",
      "metadata": {
        "id": "UYl1vIzUhDvx"
      },
      "source": [
        "model = LogisticRegression(C=100, penalty='l2', solver='newton-cg')"
      ],
      "execution_count": null,
      "outputs": []
    },
    {
      "cell_type": "code",
      "metadata": {
        "colab": {
          "base_uri": "https://localhost:8080/"
        },
        "id": "vFIBcZCrHWXA",
        "outputId": "a1ec89c3-4b78-4c1c-ad31-eec6470badc8"
      },
      "source": [
        "model.fit(X_train, y_train)"
      ],
      "execution_count": null,
      "outputs": [
        {
          "output_type": "execute_result",
          "data": {
            "text/plain": [
              "LogisticRegression(C=100, class_weight=None, dual=False, fit_intercept=True,\n",
              "                   intercept_scaling=1, l1_ratio=None, max_iter=100,\n",
              "                   multi_class='auto', n_jobs=None, penalty='l2',\n",
              "                   random_state=None, solver='newton-cg', tol=0.0001, verbose=0,\n",
              "                   warm_start=False)"
            ]
          },
          "metadata": {},
          "execution_count": 34
        }
      ]
    },
    {
      "cell_type": "markdown",
      "metadata": {
        "id": "8QniY310HZQi"
      },
      "source": [
        "## Predicting values"
      ]
    },
    {
      "cell_type": "code",
      "metadata": {
        "id": "Dpr4jF5eHWTj"
      },
      "source": [
        "y_pred = model.predict(X_test)"
      ],
      "execution_count": null,
      "outputs": []
    },
    {
      "cell_type": "code",
      "metadata": {
        "colab": {
          "base_uri": "https://localhost:8080/"
        },
        "id": "mTlEGSa5IIOQ",
        "outputId": "f8dc59a3-9ebe-48e1-fbf5-c9bfada3ead6"
      },
      "source": [
        "y_pred"
      ],
      "execution_count": null,
      "outputs": [
        {
          "output_type": "execute_result",
          "data": {
            "text/plain": [
              "array([1, 1, 0, 1, 1, 1, 0, 1, 1, 1, 0, 1, 0, 1, 1, 1, 1, 1, 1, 0, 1, 0,\n",
              "       1, 1, 1, 1, 1, 1, 1, 1, 1, 1, 1, 1, 1, 1, 1, 1, 1, 1, 1, 1, 1, 1,\n",
              "       1, 1, 1, 0, 0, 1, 1, 1, 1, 1, 1, 1, 1, 1, 1, 1, 1, 0, 1, 1, 1, 1,\n",
              "       1, 0, 1, 0, 1, 1, 1, 1, 1, 1, 1, 1, 1, 1, 1, 1, 1, 1, 1, 1, 1, 1,\n",
              "       1, 1, 1, 1, 1, 1, 1, 0, 1, 1, 1, 0, 1, 1, 0, 1, 1, 1, 1, 1, 0, 1,\n",
              "       1, 1, 1, 1, 1, 1, 1, 1, 1, 1, 1, 1, 1, 1, 1, 1, 0, 1, 1, 1, 1, 1,\n",
              "       1, 0, 1, 1, 1, 0, 0, 0, 1, 0, 1, 0, 1, 1, 1, 1, 1, 1, 1, 1, 0, 1,\n",
              "       1, 0, 1, 1, 1, 1, 1, 1, 0, 0, 1, 1, 1, 1, 1, 1, 1, 1, 1, 1, 1, 1,\n",
              "       0, 0, 1, 1, 1, 1, 1, 1, 1])"
            ]
          },
          "metadata": {},
          "execution_count": 36
        }
      ]
    },
    {
      "cell_type": "markdown",
      "metadata": {
        "id": "b62ik7QsNOsY"
      },
      "source": [
        "## 11. Compare the Actual results with the Predicted results"
      ]
    },
    {
      "cell_type": "markdown",
      "metadata": {
        "id": "cpLhzxLTHuVP"
      },
      "source": [
        "## Actual Values vs Predicted values"
      ]
    },
    {
      "cell_type": "code",
      "metadata": {
        "colab": {
          "base_uri": "https://localhost:8080/",
          "height": 202
        },
        "id": "jyjAApPlH8cP",
        "outputId": "104c8983-126d-426f-cb3d-1dc7e2e7d55d"
      },
      "source": [
        "pd.DataFrame({'Actual Values':y_test, 'Predicted Value':y_pred}).head()"
      ],
      "execution_count": null,
      "outputs": [
        {
          "output_type": "execute_result",
          "data": {
            "text/html": [
              "<div>\n",
              "<style scoped>\n",
              "    .dataframe tbody tr th:only-of-type {\n",
              "        vertical-align: middle;\n",
              "    }\n",
              "\n",
              "    .dataframe tbody tr th {\n",
              "        vertical-align: top;\n",
              "    }\n",
              "\n",
              "    .dataframe thead th {\n",
              "        text-align: right;\n",
              "    }\n",
              "</style>\n",
              "<table border=\"1\" class=\"dataframe\">\n",
              "  <thead>\n",
              "    <tr style=\"text-align: right;\">\n",
              "      <th></th>\n",
              "      <th>Actual Values</th>\n",
              "      <th>Predicted Value</th>\n",
              "    </tr>\n",
              "  </thead>\n",
              "  <tbody>\n",
              "    <tr>\n",
              "      <th>0</th>\n",
              "      <td>1</td>\n",
              "      <td>1</td>\n",
              "    </tr>\n",
              "    <tr>\n",
              "      <th>1</th>\n",
              "      <td>1</td>\n",
              "      <td>1</td>\n",
              "    </tr>\n",
              "    <tr>\n",
              "      <th>2</th>\n",
              "      <td>1</td>\n",
              "      <td>0</td>\n",
              "    </tr>\n",
              "    <tr>\n",
              "      <th>3</th>\n",
              "      <td>1</td>\n",
              "      <td>1</td>\n",
              "    </tr>\n",
              "    <tr>\n",
              "      <th>4</th>\n",
              "      <td>0</td>\n",
              "      <td>1</td>\n",
              "    </tr>\n",
              "  </tbody>\n",
              "</table>\n",
              "</div>"
            ],
            "text/plain": [
              "   Actual Values  Predicted Value\n",
              "0              1                1\n",
              "1              1                1\n",
              "2              1                0\n",
              "3              1                1\n",
              "4              0                1"
            ]
          },
          "metadata": {},
          "execution_count": 37
        }
      ]
    },
    {
      "cell_type": "markdown",
      "metadata": {
        "id": "dutKLN3iNZfv"
      },
      "source": [
        "## 12. What's the accuracy of your model?"
      ]
    },
    {
      "cell_type": "markdown",
      "metadata": {
        "id": "GHLfb2QVHjQW"
      },
      "source": [
        "## Displaying accuracy"
      ]
    },
    {
      "cell_type": "code",
      "metadata": {
        "colab": {
          "base_uri": "https://localhost:8080/"
        },
        "id": "5huZCWXcHoU1",
        "outputId": "75bd6e85-707e-4f17-a87c-51148c82c01d"
      },
      "source": [
        "print(accuracy_score(y_pred,y_test))"
      ],
      "execution_count": null,
      "outputs": [
        {
          "output_type": "stream",
          "name": "stdout",
          "text": [
            "0.8432432432432433\n"
          ]
        }
      ]
    },
    {
      "cell_type": "markdown",
      "metadata": {
        "id": "fHaA7JnhN7hh"
      },
      "source": [
        "## 13. In order to improve the accuracy, what more approaches can be done?"
      ]
    },
    {
      "cell_type": "markdown",
      "metadata": {
        "id": "C24HbXCvOEph"
      },
      "source": [
        "1. We can add more data, treat missing data and outlier values to take better business decisions.\n",
        "2. Feature Engineering can be use to explain the variance in training data thereby extract more information from existing data\n",
        "3. We can select a different set of features to understand the data in a better way\n",
        "4. Ensemble methods can be used to combine the result of multiple weak models and produce enhanced results\n",
        "5. Adjusting hyper parameters as per the node weights can prove to be a good way to control the learning process"
      ]
    },
    {
      "cell_type": "markdown",
      "metadata": {
        "id": "g1Wh9FSHITDS"
      },
      "source": [
        "# Predicting values of testing dataset"
      ]
    },
    {
      "cell_type": "code",
      "metadata": {
        "id": "5jz0pBzyISaU"
      },
      "source": [
        "X_test_dataset = test[features].values"
      ],
      "execution_count": null,
      "outputs": []
    },
    {
      "cell_type": "code",
      "metadata": {
        "id": "LhluheuVJm8a"
      },
      "source": [
        "X_test_dataset = sc.fit_transform(X_test_dataset)"
      ],
      "execution_count": null,
      "outputs": []
    },
    {
      "cell_type": "code",
      "metadata": {
        "id": "DG5I4Hg2Ikfv"
      },
      "source": [
        "X_test_dataset_pred = model.predict(X_test_dataset)"
      ],
      "execution_count": null,
      "outputs": []
    },
    {
      "cell_type": "code",
      "metadata": {
        "colab": {
          "base_uri": "https://localhost:8080/"
        },
        "id": "48H5AoJLIwcV",
        "outputId": "0fe95cba-9b68-4d2a-91ca-cab64bfdca29"
      },
      "source": [
        "X_test_dataset_pred"
      ],
      "execution_count": null,
      "outputs": [
        {
          "output_type": "execute_result",
          "data": {
            "text/plain": [
              "array([1, 1, 1, 1, 1, 1, 1, 0, 1, 1, 1, 1, 1, 0, 1, 1, 1, 1, 1, 1, 1, 1,\n",
              "       1, 1, 1, 0, 1, 1, 1, 1, 1, 1, 1, 1, 1, 0, 1, 1, 1, 1, 1, 1, 1, 1,\n",
              "       1, 1, 1, 1, 1, 1, 1, 1, 1, 1, 1, 0, 1, 1, 0, 1, 1, 1, 1, 0, 1, 1,\n",
              "       0, 0, 1, 0, 1, 1, 1, 1, 1, 1, 1, 1, 1, 1, 0, 1, 0, 1, 0, 1, 1, 1,\n",
              "       1, 1, 1, 1, 1, 1, 0, 1, 1, 1, 1, 1, 1, 0, 1, 1, 1, 1, 0, 1, 1, 1,\n",
              "       1, 1, 1, 1, 1, 1, 1, 0, 0, 0, 1, 1, 1, 0, 0, 1, 0, 1, 1, 1, 1, 1,\n",
              "       1, 1, 1, 1, 1, 1, 1, 1, 0, 1, 0, 1, 1, 1, 1, 0, 1, 1, 1, 1, 1, 0,\n",
              "       1, 1, 1, 1, 1, 1, 1, 0, 1, 1, 1, 0, 0, 1, 0, 1, 1, 1, 1, 0, 0, 1,\n",
              "       1, 1, 1, 1, 1, 1, 1, 1, 1, 1, 1, 1, 1, 1, 1, 1, 0, 0, 1, 1, 0, 1,\n",
              "       0, 1, 1, 1, 1, 1, 1, 1, 1, 1, 1, 1, 1, 0, 1, 1, 1, 1, 1, 1, 1, 1,\n",
              "       1, 1, 1, 1, 0, 1, 1, 1, 1, 0, 1, 1, 1, 1, 1, 0, 0, 1, 1, 1, 1, 0,\n",
              "       1, 0, 1, 0, 1, 1, 1, 1, 0, 1, 1, 1, 1, 0, 1, 1, 1, 1, 1, 1, 1, 1,\n",
              "       1, 1, 0, 1, 0, 1, 1, 1, 1, 0, 0, 1, 1, 1, 0, 1, 1, 1, 1, 1, 1, 1,\n",
              "       1, 1, 1, 1, 1, 1, 1, 0, 1, 1, 1, 1, 1, 1, 1, 0, 1, 1, 1, 1, 1, 1,\n",
              "       1, 1, 1, 0, 1, 1, 1, 1, 1, 0, 1, 1, 1, 1, 1, 1, 1, 0, 1, 1, 1, 1,\n",
              "       1, 1, 1, 1, 1, 1, 1, 1, 1, 0, 1, 1, 1, 1, 1, 1, 0, 1, 1, 1, 1, 1,\n",
              "       1, 1, 0, 1, 1, 1, 1, 1, 1, 1, 1, 1, 1, 1, 1])"
            ]
          },
          "metadata": {},
          "execution_count": 42
        }
      ]
    },
    {
      "cell_type": "markdown",
      "metadata": {
        "id": "L4c2S6MB8m1x"
      },
      "source": [
        "# Pickling the model"
      ]
    },
    {
      "cell_type": "code",
      "metadata": {
        "id": "60g300pj8s97"
      },
      "source": [
        "file = 'model.pkl'\n",
        "pkl.dump(model, open(file, 'wb'))"
      ],
      "execution_count": null,
      "outputs": []
    },
    {
      "cell_type": "code",
      "metadata": {
        "id": "rLlGQ2QK8s6f"
      },
      "source": [
        "loaded_model = pkl.load(open(file, 'rb'))\n",
        "result = loaded_model.score(X_test, y_test)"
      ],
      "execution_count": null,
      "outputs": []
    },
    {
      "cell_type": "code",
      "metadata": {
        "colab": {
          "base_uri": "https://localhost:8080/"
        },
        "id": "Vk4ccAzt8s3O",
        "outputId": "220cafeb-5472-4690-c869-1453c91e0e48"
      },
      "source": [
        "result"
      ],
      "execution_count": null,
      "outputs": [
        {
          "output_type": "execute_result",
          "data": {
            "text/plain": [
              "0.8432432432432433"
            ]
          },
          "metadata": {},
          "execution_count": 45
        }
      ]
    },
    {
      "cell_type": "markdown",
      "metadata": {
        "id": "Icars2EGOFVr"
      },
      "source": [
        "# 14. What can you conclude with respect to the data?"
      ]
    },
    {
      "cell_type": "markdown",
      "metadata": {
        "id": "rzvQk_M2OJAY"
      },
      "source": [
        "The highest applicant income is 81,000 that has been earned by a male.\n",
        "\n",
        "There are 367 loan applications included in the testing data.\n",
        "\n",
        "308  loan applications were approved and the remaining 59 were rejected.\n",
        "\n",
        "Thus, we sucessfully performed Data Exploration, Data Cleaning, Data Manipulation, Data Visualisation, Feature Engineering, Feature Scaling,\n",
        "Feature Selection, created and tested our model"
      ]
    }
  ]
}